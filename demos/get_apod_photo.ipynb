{
 "cells": [
  {
   "cell_type": "code",
   "execution_count": null,
   "id": "7d4f1db9-80c2-4467-8e9f-ebdca1783b01",
   "metadata": {},
   "outputs": [],
   "source": []
  },
  {
   "cell_type": "code",
   "execution_count": 1,
   "id": "410d5a20-fa03-42cc-973e-9ee2cb5a5572",
   "metadata": {},
   "outputs": [
    {
     "name": "stderr",
     "output_type": "stream",
     "text": [
      "No encoding supplied: defaulting to UTF-8.\n",
      "\n"
     ]
    },
    {
     "data": {
      "text/html": [
       "<dl>\n",
       "\t<dt>$image_url</dt>\n",
       "\t\t<dd>'https://apod.nasa.gov/apod/image/2503/ThorHelmet_Hopkins_960.jpg'</dd>\n",
       "\t<dt>$description</dt>\n",
       "\t\t<dd><span style=white-space:pre-wrap>'Thor not only has his own day (Thursday), but a helmet in the heavens.  Popularly called Thor\\'s Helmet, NGC 2359 is a hat-shaped cosmic cloud with wing-like appendages. Heroically sized even for a Norse god, Thor\\'s Helmet is about 30 light-years across. In fact, the cosmic head-covering is more like an interstellar bubble, blown by a fast wind from the bright, massive star near the bubble\\'s center. Known as a Wolf-Rayet star, the central star is an extremely hot giant thought to be in a brief, pre-supernova stage of evolution. NGC 2359 is located about 15,000 light-years away toward the constellation of the Great Overdog. This sharp image is a mixed cocktail of data from  narrowband filters, capturing not only natural looking stars but details of the nebula\\'s filamentary structures. The star in the center of Thor\\'s Helmet is expected to explode in a spectacular supernova sometime within the next few thousand years.'</span></dd>\n",
       "</dl>\n"
      ],
      "text/latex": [
       "\\begin{description}\n",
       "\\item[\\$image\\_url] 'https://apod.nasa.gov/apod/image/2503/ThorHelmet\\_Hopkins\\_960.jpg'\n",
       "\\item[\\$description] 'Thor not only has his own day (Thursday), but a helmet in the heavens.  Popularly called Thor\\textbackslash{}'s Helmet, NGC 2359 is a hat-shaped cosmic cloud with wing-like appendages. Heroically sized even for a Norse god, Thor\\textbackslash{}'s Helmet is about 30 light-years across. In fact, the cosmic head-covering is more like an interstellar bubble, blown by a fast wind from the bright, massive star near the bubble\\textbackslash{}'s center. Known as a Wolf-Rayet star, the central star is an extremely hot giant thought to be in a brief, pre-supernova stage of evolution. NGC 2359 is located about 15,000 light-years away toward the constellation of the Great Overdog. This sharp image is a mixed cocktail of data from  narrowband filters, capturing not only natural looking stars but details of the nebula\\textbackslash{}'s filamentary structures. The star in the center of Thor\\textbackslash{}'s Helmet is expected to explode in a spectacular supernova sometime within the next few thousand years.'\n",
       "\\end{description}\n"
      ],
      "text/markdown": [
       "$image_url\n",
       ":   'https://apod.nasa.gov/apod/image/2503/ThorHelmet_Hopkins_960.jpg'\n",
       "$description\n",
       ":   <span style=white-space:pre-wrap>'Thor not only has his own day (Thursday), but a helmet in the heavens.  Popularly called Thor\\'s Helmet, NGC 2359 is a hat-shaped cosmic cloud with wing-like appendages. Heroically sized even for a Norse god, Thor\\'s Helmet is about 30 light-years across. In fact, the cosmic head-covering is more like an interstellar bubble, blown by a fast wind from the bright, massive star near the bubble\\'s center. Known as a Wolf-Rayet star, the central star is an extremely hot giant thought to be in a brief, pre-supernova stage of evolution. NGC 2359 is located about 15,000 light-years away toward the constellation of the Great Overdog. This sharp image is a mixed cocktail of data from  narrowband filters, capturing not only natural looking stars but details of the nebula\\'s filamentary structures. The star in the center of Thor\\'s Helmet is expected to explode in a spectacular supernova sometime within the next few thousand years.'</span>\n",
       "\n",
       "\n"
      ],
      "text/plain": [
       "$image_url\n",
       "[1] \"https://apod.nasa.gov/apod/image/2503/ThorHelmet_Hopkins_960.jpg\"\n",
       "\n",
       "$description\n",
       "[1] \"Thor not only has his own day (Thursday), but a helmet in the heavens.  Popularly called Thor's Helmet, NGC 2359 is a hat-shaped cosmic cloud with wing-like appendages. Heroically sized even for a Norse god, Thor's Helmet is about 30 light-years across. In fact, the cosmic head-covering is more like an interstellar bubble, blown by a fast wind from the bright, massive star near the bubble's center. Known as a Wolf-Rayet star, the central star is an extremely hot giant thought to be in a brief, pre-supernova stage of evolution. NGC 2359 is located about 15,000 light-years away toward the constellation of the Great Overdog. This sharp image is a mixed cocktail of data from  narrowband filters, capturing not only natural looking stars but details of the nebula's filamentary structures. The star in the center of Thor's Helmet is expected to explode in a spectacular supernova sometime within the next few thousand years.\"\n"
      ]
     },
     "metadata": {},
     "output_type": "display_data"
    }
   ],
   "source": [
    "#' Fetch NASA's Astronomy Picture of the Day\n",
    "#' @param api_key Your NASA API key\n",
    "#' @param show_image Logical, whether to display the image in the console. Default is TRUE.\n",
    "#' @return A list with image URL and description\n",
    "#' @export\n",
    "get_apod_photo <- function(api_key, show_image = TRUE) {\n",
    "  response <- httr::GET(\"https://api.nasa.gov/planetary/apod\", query = list(api_key = api_key))\n",
    "  httr::stop_for_status(response)\n",
    "  data <- jsonlite::fromJSON(httr::content(response, \"text\"))\n",
    "\n",
    "  # read the temp_file image and store it to a variable.\n",
    "  # make this to skip the test phase for quick check\n",
    "  if (show_image) {\n",
    "    # check image extension\n",
    "    file_extension <- tools::file_ext(data$url)\n",
    "\n",
    "    # Download image and store it as a temp_file.\n",
    "    temp_extension <- paste0(\".\", file_extension)\n",
    "    temp_file <- tempfile(fileext = temp_extension)\n",
    "    download.file(data$url, temp_file, mode = \"wb\")\n",
    "\n",
    "    if (file_extension %in% c(\"jpg\", \"jpeg\")) {\n",
    "      # jpeg/jpg format\n",
    "      img <- jpeg::readJPEG(temp_file, native = TRUE)\n",
    "    } else if (file_extension == \"png\") {\n",
    "      # png format\n",
    "      img <- png::readPNG(temp_file, native = TRUE)\n",
    "    } else {\n",
    "      stop(\"Unsupported image format: \", file_extension)\n",
    "    }\n",
    "    # show image in console\n",
    "    grid::grid.raster(img)\n",
    "  }\n",
    "\n",
    "  # Return the image URL and description\n",
    "  list(image_url = data$url, description = data$explanation)\n",
    "}\n",
    "\n",
    "\n",
    "key = \"XFsDPHBjdABhXfquwqnJSfhwEY4rCZI2ev2NDU0K\"\n",
    "\n",
    "get_apod_photo(key, show_image = FALSE)\n"
   ]
  },
  {
   "cell_type": "code",
   "execution_count": null,
   "id": "93da03de-ae8b-418d-a78a-df5fe80ded94",
   "metadata": {},
   "outputs": [],
   "source": []
  }
 ],
 "metadata": {
  "kernelspec": {
   "display_name": "R",
   "language": "R",
   "name": "ir"
  },
  "language_info": {
   "codemirror_mode": "r",
   "file_extension": ".r",
   "mimetype": "text/x-r-source",
   "name": "R",
   "pygments_lexer": "r",
   "version": "4.4.1"
  }
 },
 "nbformat": 4,
 "nbformat_minor": 5
}
