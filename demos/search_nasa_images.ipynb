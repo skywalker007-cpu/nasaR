{
 "cells": [
  {
   "cell_type": "code",
   "execution_count": 8,
   "metadata": {
    "vscode": {
     "languageId": "r"
    }
   },
   "outputs": [],
   "source": [
    "search_nasa_images <- function(query) {\n",
    "    if (!require(httr)) {\n",
    "        install.packages(\"httr\")\n",
    "    }\n",
    "    library(httr)\n",
    "    \n",
    "    url <- \"https://images-api.nasa.gov/search\"\n",
    "    query_params <- list(q = query)\n",
    "    response <- GET(url, query = query_params)\n",
    "    result <- list()\n",
    "\n",
    "    if (status_code(response) == 200) {\n",
    "        content <- content(response, as = \"parsed\", type = \"application/json\")\n",
    "        if (length(content$collection$items) > 0) {\n",
    "            first_item <- content$collection$items[[1]]\n",
    "            result$href <- first_item$href\n",
    "        \n",
    "            # Process data if available\n",
    "            if (length(first_item$data) > 0) {\n",
    "                data <- first_item$data[[1]]\n",
    "                result$center <- data$center\n",
    "                result$date_created <- data$date_created\n",
    "                result$description <- data$description\n",
    "                \n",
    "                if (!is.null(data$keywords)) {\n",
    "                    result$keywords <- data$keywords\n",
    "                }\n",
    "            } else {\n",
    "                result$data_available <- FALSE\n",
    "            }\n",
    "        } else {\n",
    "            result$items_available <- FALSE\n",
    "        }\n",
    "    } else {\n",
    "        result$error <- paste(\"Failed to retrieve data. Status code:\", status_code(response))\n",
    "    }\n",
    "    return(result)\n",
    "}"
   ]
  },
  {
   "cell_type": "code",
   "execution_count": 9,
   "metadata": {
    "vscode": {
     "languageId": "r"
    }
   },
   "outputs": [
    {
     "data": {
      "text/html": [
       "<dl>\n",
       "\t<dt>$href</dt>\n",
       "\t\t<dd>'https://images-assets.nasa.gov/image/NHQ201905310045/collection.json'</dd>\n",
       "\t<dt>$center</dt>\n",
       "\t\t<dd>'HQ'</dd>\n",
       "\t<dt>$date_created</dt>\n",
       "\t\t<dd>'2019-05-31T00:00:00Z'</dd>\n",
       "\t<dt>$description</dt>\n",
       "\t\t<dd>'The Mars celebration Friday, May 31, 2019, in Mars, Pennsylvania. NASA is in the small town to celebrate Mars exploration and share the agency’s excitement about landing astronauts on the Moon in five years. The celebration includes a weekend of Science, Technology, Engineering, Arts and Mathematics (STEAM) activities. Photo Credit: (NASA/Bill Ingalls)'</dd>\n",
       "\t<dt>$keywords</dt>\n",
       "\t\t<dd><ol>\n",
       "\t<li>'Mars'</li>\n",
       "\t<li>'Mars Celebration'</li>\n",
       "\t<li>'Pennsylvania'</li>\n",
       "</ol>\n",
       "</dd>\n",
       "</dl>\n"
      ],
      "text/latex": [
       "\\begin{description}\n",
       "\\item[\\$href] 'https://images-assets.nasa.gov/image/NHQ201905310045/collection.json'\n",
       "\\item[\\$center] 'HQ'\n",
       "\\item[\\$date\\_created] '2019-05-31T00:00:00Z'\n",
       "\\item[\\$description] 'The Mars celebration Friday, May 31, 2019, in Mars, Pennsylvania. NASA is in the small town to celebrate Mars exploration and share the agency’s excitement about landing astronauts on the Moon in five years. The celebration includes a weekend of Science, Technology, Engineering, Arts and Mathematics (STEAM) activities. Photo Credit: (NASA/Bill Ingalls)'\n",
       "\\item[\\$keywords] \\begin{enumerate}\n",
       "\\item 'Mars'\n",
       "\\item 'Mars Celebration'\n",
       "\\item 'Pennsylvania'\n",
       "\\end{enumerate}\n",
       "\n",
       "\\end{description}\n"
      ],
      "text/markdown": [
       "$href\n",
       ":   'https://images-assets.nasa.gov/image/NHQ201905310045/collection.json'\n",
       "$center\n",
       ":   'HQ'\n",
       "$date_created\n",
       ":   '2019-05-31T00:00:00Z'\n",
       "$description\n",
       ":   'The Mars celebration Friday, May 31, 2019, in Mars, Pennsylvania. NASA is in the small town to celebrate Mars exploration and share the agency’s excitement about landing astronauts on the Moon in five years. The celebration includes a weekend of Science, Technology, Engineering, Arts and Mathematics (STEAM) activities. Photo Credit: (NASA/Bill Ingalls)'\n",
       "$keywords\n",
       ":   1. 'Mars'\n",
       "2. 'Mars Celebration'\n",
       "3. 'Pennsylvania'\n",
       "\n",
       "\n",
       "\n",
       "\n",
       "\n"
      ],
      "text/plain": [
       "$href\n",
       "[1] \"https://images-assets.nasa.gov/image/NHQ201905310045/collection.json\"\n",
       "\n",
       "$center\n",
       "[1] \"HQ\"\n",
       "\n",
       "$date_created\n",
       "[1] \"2019-05-31T00:00:00Z\"\n",
       "\n",
       "$description\n",
       "[1] \"The Mars celebration Friday, May 31, 2019, in Mars, Pennsylvania. NASA is in the small town to celebrate Mars exploration and share the agency<U+2019>s excitement about landing astronauts on the Moon in five years. The celebration includes a weekend of Science, Technology, Engineering, Arts and Mathematics (STEAM) activities. Photo Credit: (NASA/Bill Ingalls)\"\n",
       "\n",
       "$keywords\n",
       "$keywords[[1]]\n",
       "[1] \"Mars\"\n",
       "\n",
       "$keywords[[2]]\n",
       "[1] \"Mars Celebration\"\n",
       "\n",
       "$keywords[[3]]\n",
       "[1] \"Pennsylvania\"\n",
       "\n"
      ]
     },
     "metadata": {},
     "output_type": "display_data"
    }
   ],
   "source": [
    "result <- search_nasa_images(\"mars\")\n",
    "result"
   ]
  }
 ],
 "metadata": {
  "kernelspec": {
   "display_name": "R",
   "language": "R",
   "name": "ir"
  },
  "language_info": {
   "codemirror_mode": "r",
   "file_extension": ".r",
   "mimetype": "text/x-r-source",
   "name": "R",
   "pygments_lexer": "r",
   "version": "4.4.2"
  }
 },
 "nbformat": 4,
 "nbformat_minor": 2
}
